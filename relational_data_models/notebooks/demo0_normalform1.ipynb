{
 "cells": [
  {
   "cell_type": "markdown",
   "id": "passing-staff",
   "metadata": {},
   "source": [
    "Converting into normal form 1"
   ]
  },
  {
   "cell_type": "code",
   "execution_count": 1,
   "id": "removable-demographic",
   "metadata": {},
   "outputs": [],
   "source": [
    "import psycopg2 as psy"
   ]
  },
  {
   "cell_type": "code",
   "execution_count": 6,
   "id": "clean-replica",
   "metadata": {},
   "outputs": [],
   "source": [
    "conn = psy.connect(\"host=127.0.0.1, dbname='udacity'\")\n",
    "conn.autocommit = True\n",
    "c = conn.cursor()"
   ]
  },
  {
   "cell_type": "markdown",
   "id": "exceptional-positive",
   "metadata": {},
   "source": [
    "create a db and add some data"
   ]
  },
  {
   "cell_type": "code",
   "execution_count": 8,
   "id": "better-liquid",
   "metadata": {},
   "outputs": [],
   "source": [
    "table = '''\n",
    "    CREATE TABLE asshole \n",
    "    (name varchar, year int, music text[])\n",
    "'''\n",
    "c.execute(table)"
   ]
  },
  {
   "cell_type": "code",
   "execution_count": 38,
   "id": "annoying-minute",
   "metadata": {},
   "outputs": [],
   "source": [
    "insert = '''\n",
    "    INSERT INTO asshole (name, year, music)\n",
    "    VALUES (%s, %s, %s)\n",
    "'''\n",
    "\n",
    "made_up_data = [('john', 2020, ['fuck', 'asshole', 'balls']), \n",
    "                ('balls', 2018, ['mango', 'cock', 'lemon'])]\n",
    "\n",
    "c.execute(insert, made_up_data[0])\n",
    "c.execute(insert, made_up_data[1])"
   ]
  },
  {
   "cell_type": "code",
   "execution_count": 11,
   "id": "improved-sharing",
   "metadata": {},
   "outputs": [
    {
     "name": "stdout",
     "output_type": "stream",
     "text": [
      "[('john', 2020, ['fuck', 'asshole', 'balls']), ('balls', 2018, ['mango', 'cock', 'lemon'])]\n"
     ]
    }
   ],
   "source": [
    "test = '''\n",
    "    SELECT * FROM asshole\n",
    "'''\n",
    "\n",
    "c.execute(test)\n",
    "print(c.fetchall())"
   ]
  },
  {
   "cell_type": "markdown",
   "id": "sapphire-capitol",
   "metadata": {},
   "source": [
    "so, now we need this in normal form. Meaning, transforming that list into individual rows.\n",
    "Create a new table"
   ]
  },
  {
   "cell_type": "code",
   "execution_count": 12,
   "id": "together-maine",
   "metadata": {},
   "outputs": [],
   "source": [
    "table2 = '''\n",
    "    CREATE TABLE butthole\n",
    "    (name varchar, year int, music varchar)\n",
    "'''\n",
    "\n",
    "c.execute(table2)"
   ]
  },
  {
   "cell_type": "code",
   "execution_count": 51,
   "id": "emotional-ambassador",
   "metadata": {},
   "outputs": [],
   "source": [
    "insert2 = '''\n",
    "    INSERT INTO butthole\n",
    "    (name, year, music)\n",
    "    VALUES (%s, %s, %s)\n",
    "'''"
   ]
  },
  {
   "cell_type": "code",
   "execution_count": 42,
   "id": "experimental-breath",
   "metadata": {},
   "outputs": [],
   "source": [
    "data = [[(D[0], D[1], x) for x in D[2]] for D in made_up_data]"
   ]
  },
  {
   "cell_type": "code",
   "execution_count": 52,
   "id": "labeled-cover",
   "metadata": {},
   "outputs": [],
   "source": [
    "for d in data:\n",
    "    for dd in d:\n",
    "        c.execute(insert2, dd)"
   ]
  },
  {
   "cell_type": "code",
   "execution_count": 53,
   "id": "crude-smile",
   "metadata": {},
   "outputs": [
    {
     "name": "stdout",
     "output_type": "stream",
     "text": [
      "[('john', 2020, 'fuck'), ('john', 2020, 'asshole'), ('john', 2020, 'balls'), ('balls', 2018, 'mango'), ('balls', 2018, 'cock'), ('balls', 2018, 'lemon')]\n"
     ]
    }
   ],
   "source": [
    "c.execute('''SELECT * FROM butthole''')\n",
    "print(c.fetchall())"
   ]
  },
  {
   "cell_type": "markdown",
   "id": "adopted-sense",
   "metadata": {},
   "source": [
    "We need to break this up into second form"
   ]
  },
  {
   "cell_type": "code",
   "execution_count": null,
   "id": "charitable-danger",
   "metadata": {},
   "outputs": [],
   "source": []
  }
 ],
 "metadata": {
  "kernelspec": {
   "display_name": "Python 3",
   "language": "python",
   "name": "python3"
  },
  "language_info": {
   "codemirror_mode": {
    "name": "ipython",
    "version": 3
   },
   "file_extension": ".py",
   "mimetype": "text/x-python",
   "name": "python",
   "nbconvert_exporter": "python",
   "pygments_lexer": "ipython3",
   "version": "3.8.6"
  }
 },
 "nbformat": 4,
 "nbformat_minor": 5
}
