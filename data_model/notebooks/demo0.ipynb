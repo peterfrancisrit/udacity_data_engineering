{
 "cells": [
  {
   "cell_type": "code",
   "execution_count": 1,
   "id": "dental-endorsement",
   "metadata": {},
   "outputs": [],
   "source": [
    "import psycopg2 as psy"
   ]
  },
  {
   "cell_type": "code",
   "execution_count": 3,
   "id": "regular-electricity",
   "metadata": {},
   "outputs": [],
   "source": [
    "conn = psy.connect(\n",
    "        host='127.0.0.1',\n",
    "        dbname='udacity',\n",
    "        user='harry',\n",
    "        password='balls'\n",
    "    \n",
    ")"
   ]
  },
  {
   "cell_type": "code",
   "execution_count": 4,
   "id": "insured-making",
   "metadata": {},
   "outputs": [],
   "source": [
    "# make sure we autocommit for now\n",
    "conn.autocommit = True"
   ]
  },
  {
   "cell_type": "code",
   "execution_count": 5,
   "id": "divided-chest",
   "metadata": {},
   "outputs": [],
   "source": [
    "cursor = conn.cursor()"
   ]
  },
  {
   "cell_type": "code",
   "execution_count": 8,
   "id": "collect-lawrence",
   "metadata": {},
   "outputs": [],
   "source": [
    "query = '''\n",
    "    CREATE TABLE IF NOT EXISTS music \n",
    "    (album_name varchar, \n",
    "    artist_name varchar, \n",
    "    year int);\n",
    "'''"
   ]
  },
  {
   "cell_type": "code",
   "execution_count": 10,
   "id": "optimum-premiere",
   "metadata": {},
   "outputs": [],
   "source": [
    "cursor.execute(query)"
   ]
  },
  {
   "cell_type": "code",
   "execution_count": 11,
   "id": "maritime-fiction",
   "metadata": {},
   "outputs": [],
   "source": [
    "cursor.execute(\"SELECT * FROM music;\")"
   ]
  },
  {
   "cell_type": "code",
   "execution_count": 12,
   "id": "preceding-headquarters",
   "metadata": {},
   "outputs": [
    {
     "data": {
      "text/plain": [
       "[]"
      ]
     },
     "execution_count": 12,
     "metadata": {},
     "output_type": "execute_result"
    }
   ],
   "source": [
    "cursor.fetchall()"
   ]
  },
  {
   "cell_type": "code",
   "execution_count": 13,
   "id": "distant-azerbaijan",
   "metadata": {},
   "outputs": [],
   "source": [
    "try: \n",
    "    cursor.execute('''\n",
    "        INSERT INTO music\n",
    "        (album_name, artist_name, year)\n",
    "        VALUES (%s, %s, %s)\n",
    "    ''', ('Aye', 'Ass', 2020))\n",
    "except psy.Error as e:\n",
    "    print(e)"
   ]
  },
  {
   "cell_type": "code",
   "execution_count": 14,
   "id": "certain-oxford",
   "metadata": {},
   "outputs": [],
   "source": [
    "try: \n",
    "    cursor.execute('''\n",
    "        INSERT INTO music\n",
    "        (album_name, artist_name, year)\n",
    "        VALUES (%s, %s, %s)\n",
    "    ''', ('Aye', 'Ass', 2020))\n",
    "except psy.Error as e:\n",
    "    print(e)"
   ]
  },
  {
   "cell_type": "code",
   "execution_count": 15,
   "id": "complicated-gates",
   "metadata": {},
   "outputs": [],
   "source": [
    "try: \n",
    "    cursor.execute('''\n",
    "        INSERT INTO music\n",
    "        (album_name, artist_name, year)\n",
    "        VALUES (%s, %s, %s)\n",
    "    ''', ('balls', '333', 2020))\n",
    "except psy.Error as e:\n",
    "    print(e)"
   ]
  },
  {
   "cell_type": "code",
   "execution_count": 16,
   "id": "viral-selection",
   "metadata": {},
   "outputs": [],
   "source": [
    "cursor.execute(\"SELECT * FROM music;\")"
   ]
  },
  {
   "cell_type": "code",
   "execution_count": 17,
   "id": "considered-saskatchewan",
   "metadata": {},
   "outputs": [
    {
     "data": {
      "text/plain": [
       "[('Aye', 'Ass', 2020), ('Aye', 'Ass', 2020), ('balls', '333', 2020)]"
      ]
     },
     "execution_count": 17,
     "metadata": {},
     "output_type": "execute_result"
    }
   ],
   "source": [
    "cursor.fetchall()"
   ]
  },
  {
   "cell_type": "code",
   "execution_count": 18,
   "id": "spectacular-sugar",
   "metadata": {},
   "outputs": [],
   "source": [
    "cursor.execute(\"DROP TABLE music;\")"
   ]
  },
  {
   "cell_type": "code",
   "execution_count": null,
   "id": "respective-thing",
   "metadata": {},
   "outputs": [],
   "source": []
  }
 ],
 "metadata": {
  "kernelspec": {
   "display_name": "Python 3",
   "language": "python",
   "name": "python3"
  },
  "language_info": {
   "codemirror_mode": {
    "name": "ipython",
    "version": 3
   },
   "file_extension": ".py",
   "mimetype": "text/x-python",
   "name": "python",
   "nbconvert_exporter": "python",
   "pygments_lexer": "ipython3",
   "version": "3.8.6"
  }
 },
 "nbformat": 4,
 "nbformat_minor": 5
}
