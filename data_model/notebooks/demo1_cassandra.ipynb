{
 "cells": [
  {
   "cell_type": "code",
   "execution_count": 3,
   "id": "narrative-terrorism",
   "metadata": {},
   "outputs": [],
   "source": [
    "# !pip3 install cassandra-driver"
   ]
  },
  {
   "cell_type": "code",
   "execution_count": 9,
   "id": "generous-moses",
   "metadata": {},
   "outputs": [],
   "source": [
    "from cassandra.cluster import Cluster"
   ]
  },
  {
   "cell_type": "code",
   "execution_count": 11,
   "id": "settled-bruce",
   "metadata": {},
   "outputs": [],
   "source": [
    "cluster = Cluster(['127.0.0.1'])\n",
    "session = cluster.connect()"
   ]
  },
  {
   "cell_type": "code",
   "execution_count": 14,
   "id": "arctic-location",
   "metadata": {},
   "outputs": [
    {
     "name": "stdout",
     "output_type": "stream",
     "text": [
      "Error from server: code=2200 [Invalid query] message=\"No keyspace has been specified. USE a keyspace, or explicitly specify keyspace.tablename\"\n"
     ]
    }
   ],
   "source": [
    "try:\n",
    "    session.execute(\"SELECT * FROM fuck\")\n",
    "except Exception as e:\n",
    "    print(e)"
   ]
  },
  {
   "cell_type": "code",
   "execution_count": 17,
   "id": "metallic-authorization",
   "metadata": {},
   "outputs": [],
   "source": [
    "try:\n",
    "    session.execute('''\n",
    "        CREATE KEYSPACE IF NOT EXISTS ass\n",
    "        WITH REPLICATION = {'class':'SimpleStrategy','replication_factor':1}''')\n",
    "except Exception as e:\n",
    "    print(e)"
   ]
  },
  {
   "cell_type": "markdown",
   "id": "turned-excellence",
   "metadata": {},
   "source": [
    "We need to set our keyspace and connect to it. We don't need a new connection"
   ]
  },
  {
   "cell_type": "code",
   "execution_count": 19,
   "id": "immediate-baghdad",
   "metadata": {},
   "outputs": [],
   "source": [
    "try:\n",
    "    session.set_keyspace('ass')\n",
    "except Exception as e:\n",
    "    print(e)"
   ]
  },
  {
   "cell_type": "markdown",
   "id": "infinite-mongolia",
   "metadata": {},
   "source": [
    "When setting tables, we need to think of the queries we might run.\n",
    "This is important as the partition is done on a set key. So, think of a \"WHERE\" clause, \"SELECT * FROM x WHERE y = '...'\"\n",
    "\n",
    "We will partition on year. \n",
    "\n",
    "hence\n",
    "\n",
    "PRIMARY KEY(partition, primary_key) \n",
    "\n",
    "so the primary key might be patient_id, or artist_name, the partition might be year here"
   ]
  },
  {
   "cell_type": "code",
   "execution_count": 20,
   "id": "played-plaza",
   "metadata": {},
   "outputs": [],
   "source": [
    "query = 'CREATE TABLE IF NOT EXISTS music_library'\n",
    "query = query + '(year int, artist_name text, album_name text, PRIMARY KEY (year, artist_name))'"
   ]
  },
  {
   "cell_type": "code",
   "execution_count": 22,
   "id": "logical-hepatitis",
   "metadata": {},
   "outputs": [
    {
     "name": "stdout",
     "output_type": "stream",
     "text": [
      "CREATE TABLE IF NOT EXISTS music_library(year int, artist_name text, album_name text, PRIMARY KEY (year, artist_name))\n"
     ]
    }
   ],
   "source": [
    "# notice the primary key\n",
    "print(query)"
   ]
  },
  {
   "cell_type": "code",
   "execution_count": 24,
   "id": "infrared-duncan",
   "metadata": {},
   "outputs": [],
   "source": [
    "try:\n",
    "    session.execute(query)\n",
    "except Exception as e:\n",
    "    print(e)"
   ]
  },
  {
   "cell_type": "code",
   "execution_count": 25,
   "id": "controversial-salon",
   "metadata": {},
   "outputs": [],
   "source": [
    "insert_stm = '''INSERT INTO music_library(year, artist_name, album_name)'''"
   ]
  },
  {
   "cell_type": "code",
   "execution_count": 26,
   "id": "working-watershed",
   "metadata": {},
   "outputs": [],
   "source": [
    "insert_stm = insert_stm + \"VALUES (%s, %s, %s)\""
   ]
  },
  {
   "cell_type": "code",
   "execution_count": 28,
   "id": "external-motel",
   "metadata": {},
   "outputs": [],
   "source": [
    "try:\n",
    "    session.execute(insert_stm, (1930, 'ass', 'assballs'))\n",
    "    session.execute(insert_stm, (3910, 'balls', 'assballs'))\n",
    "except Exception as e:\n",
    "    print(e)"
   ]
  },
  {
   "cell_type": "code",
   "execution_count": 37,
   "id": "super-palmer",
   "metadata": {},
   "outputs": [],
   "source": [
    "row = session.execute('''SELECT * FROM music_library''')"
   ]
  },
  {
   "cell_type": "code",
   "execution_count": 38,
   "id": "disturbed-stack",
   "metadata": {},
   "outputs": [
    {
     "name": "stdout",
     "output_type": "stream",
     "text": [
      "3910\n",
      "1930\n"
     ]
    }
   ],
   "source": [
    "for r in row:\n",
    "    print(r.year)"
   ]
  },
  {
   "cell_type": "code",
   "execution_count": null,
   "id": "lined-dominant",
   "metadata": {},
   "outputs": [],
   "source": []
  }
 ],
 "metadata": {
  "kernelspec": {
   "display_name": "Python 3",
   "language": "python",
   "name": "python3"
  },
  "language_info": {
   "codemirror_mode": {
    "name": "ipython",
    "version": 3
   },
   "file_extension": ".py",
   "mimetype": "text/x-python",
   "name": "python",
   "nbconvert_exporter": "python",
   "pygments_lexer": "ipython3",
   "version": "3.8.6"
  }
 },
 "nbformat": 4,
 "nbformat_minor": 5
}
